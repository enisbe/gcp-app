{
 "cells": [
  {
   "cell_type": "code",
   "execution_count": 1,
   "metadata": {},
   "outputs": [],
   "source": [
    "import os\n",
    "import pandas as pd\n",
    "import numpy as np\n",
    "import json"
   ]
  },
  {
   "cell_type": "code",
   "execution_count": 2,
   "metadata": {},
   "outputs": [],
   "source": [
    "import requests, base64\n",
    "url = \"http://127.0.0.1:8080/predict\"\n",
    "\n",
    "payload = {\"test\":1, 'test2':3}\n",
    "headers = {'Content-Type':'application/json'}"
   ]
  },
  {
   "cell_type": "code",
   "execution_count": 5,
   "metadata": {},
   "outputs": [],
   "source": [
    "test = pd.read_csv(\"../test.csv\")"
   ]
  },
  {
   "cell_type": "code",
   "execution_count": 6,
   "metadata": {},
   "outputs": [],
   "source": [
    "x_test = test.drop(['Unnamed: 0','mv'],axis=1)\n",
    "y_test = test[['mv']]"
   ]
  },
  {
   "cell_type": "code",
   "execution_count": 9,
   "metadata": {},
   "outputs": [],
   "source": [
    "payload  =x_test[0:10].to_json()"
   ]
  },
  {
   "cell_type": "code",
   "execution_count": 10,
   "metadata": {
    "collapsed": true
   },
   "outputs": [
    {
     "data": {
      "text/plain": [
       "{'crim': {'0': 0.04932,\n",
       "  '1': 0.02543,\n",
       "  '2': 0.22927,\n",
       "  '3': 0.05789,\n",
       "  '4': 3.67822,\n",
       "  '5': 0.59005,\n",
       "  '6': 0.03615,\n",
       "  '7': 1.35472,\n",
       "  '8': 0.11069,\n",
       "  '9': 0.04684},\n",
       " 'zn': {'0': 33.0,\n",
       "  '1': 55.0,\n",
       "  '2': 0.0,\n",
       "  '3': 12.5,\n",
       "  '4': 0.0,\n",
       "  '5': 0.0,\n",
       "  '6': 80.0,\n",
       "  '7': 0.0,\n",
       "  '8': 0.0,\n",
       "  '9': 0.0},\n",
       " 'indus': {'0': 2.18,\n",
       "  '1': 3.78,\n",
       "  '2': 6.91,\n",
       "  '3': 6.07,\n",
       "  '4': 18.1,\n",
       "  '5': 21.89,\n",
       "  '6': 4.95,\n",
       "  '7': 8.14,\n",
       "  '8': 13.89,\n",
       "  '9': 3.41},\n",
       " 'chas': {'0': 0,\n",
       "  '1': 0,\n",
       "  '2': 0,\n",
       "  '3': 0,\n",
       "  '4': 0,\n",
       "  '5': 0,\n",
       "  '6': 0,\n",
       "  '7': 0,\n",
       "  '8': 1,\n",
       "  '9': 0},\n",
       " 'nox': {'0': 0.472,\n",
       "  '1': 0.484,\n",
       "  '2': 0.448,\n",
       "  '3': 0.409,\n",
       "  '4': 0.77,\n",
       "  '5': 0.624,\n",
       "  '6': 0.411,\n",
       "  '7': 0.538,\n",
       "  '8': 0.55,\n",
       "  '9': 0.489},\n",
       " 'rooms': {'0': 6.849,\n",
       "  '1': 6.696,\n",
       "  '2': 6.03,\n",
       "  '3': 5.878,\n",
       "  '4': 5.362,\n",
       "  '5': 6.372,\n",
       "  '6': 6.63,\n",
       "  '7': 6.072,\n",
       "  '8': 5.951,\n",
       "  '9': 6.417},\n",
       " 'age': {'0': 70.3,\n",
       "  '1': 56.4,\n",
       "  '2': 85.5,\n",
       "  '3': 21.4,\n",
       "  '4': 96.2,\n",
       "  '5': 97.9,\n",
       "  '6': 23.4,\n",
       "  '7': 100.0,\n",
       "  '8': 93.8,\n",
       "  '9': 66.1},\n",
       " 'dis': {'0': 3.1827,\n",
       "  '1': 5.7321,\n",
       "  '2': 5.6894,\n",
       "  '3': 6.498,\n",
       "  '4': 2.1036,\n",
       "  '5': 2.3274,\n",
       "  '6': 5.1167,\n",
       "  '7': 4.175,\n",
       "  '8': 2.8893,\n",
       "  '9': 3.0923},\n",
       " 'rad': {'0': 7,\n",
       "  '1': 5,\n",
       "  '2': 3,\n",
       "  '3': 4,\n",
       "  '4': 24,\n",
       "  '5': 4,\n",
       "  '6': 4,\n",
       "  '7': 4,\n",
       "  '8': 5,\n",
       "  '9': 2},\n",
       " 'tax': {'0': 222,\n",
       "  '1': 370,\n",
       "  '2': 233,\n",
       "  '3': 345,\n",
       "  '4': 666,\n",
       "  '5': 437,\n",
       "  '6': 245,\n",
       "  '7': 307,\n",
       "  '8': 276,\n",
       "  '9': 270},\n",
       " 'ptratio': {'0': 18.4,\n",
       "  '1': 17.6,\n",
       "  '2': 17.9,\n",
       "  '3': 18.9,\n",
       "  '4': 20.2,\n",
       "  '5': 21.2,\n",
       "  '6': 19.2,\n",
       "  '7': 21.0,\n",
       "  '8': 16.4,\n",
       "  '9': 17.8},\n",
       " 'lstat': {'0': 7.53,\n",
       "  '1': 7.18,\n",
       "  '2': 18.8,\n",
       "  '3': 8.1,\n",
       "  '4': 10.19,\n",
       "  '5': 11.12,\n",
       "  '6': 4.7,\n",
       "  '7': 13.04,\n",
       "  '8': 17.92,\n",
       "  '9': 8.81}}"
      ]
     },
     "execution_count": 10,
     "metadata": {},
     "output_type": "execute_result"
    }
   ],
   "source": [
    "json.loads(payload) "
   ]
  },
  {
   "cell_type": "code",
   "execution_count": 11,
   "metadata": {},
   "outputs": [],
   "source": [
    "r = requests.post(url,json= json.loads(payload) )"
   ]
  },
  {
   "cell_type": "code",
   "execution_count": 12,
   "metadata": {
    "scrolled": true
   },
   "outputs": [
    {
     "data": {
      "text/plain": [
       "{'Content-Type': 'application/json', 'Content-Length': '268', 'Server': 'Werkzeug/1.0.1 Python/3.8.2', 'Date': 'Sun, 14 Feb 2021 03:49:10 GMT'}"
      ]
     },
     "execution_count": 12,
     "metadata": {},
     "output_type": "execute_result"
    }
   ],
   "source": [
    "r.headers "
   ]
  },
  {
   "cell_type": "code",
   "execution_count": 13,
   "metadata": {},
   "outputs": [
    {
     "data": {
      "text/plain": [
       "{'predict': [29.54273957922747,\n",
       "  27.214672375573105,\n",
       "  20.175678276555853,\n",
       "  22.333722153597023,\n",
       "  18.36666574821569,\n",
       "  19.172058137802285,\n",
       "  27.05772206111011,\n",
       "  18.983012725325672,\n",
       "  19.541273631817774,\n",
       "  24.607716348540734]}"
      ]
     },
     "execution_count": 13,
     "metadata": {},
     "output_type": "execute_result"
    }
   ],
   "source": [
    "json.loads(r.content)"
   ]
  },
  {
   "cell_type": "code",
   "execution_count": 68,
   "metadata": {},
   "outputs": [
    {
     "data": {
      "text/plain": [
       "{'predict': [29.54273957922747,\n",
       "  27.21467237557311,\n",
       "  20.175678276555853,\n",
       "  22.333722153597027,\n",
       "  18.366665748215695,\n",
       "  19.172058137802285,\n",
       "  27.057722061110116,\n",
       "  18.983012725325672,\n",
       "  19.541273631817777,\n",
       "  24.607716348540734]}"
      ]
     },
     "execution_count": 68,
     "metadata": {},
     "output_type": "execute_result"
    }
   ],
   "source": [
    "r.json()"
   ]
  }
 ],
 "metadata": {
  "kernelspec": {
   "display_name": "Python 3",
   "language": "python",
   "name": "python3"
  },
  "language_info": {
   "codemirror_mode": {
    "name": "ipython",
    "version": 3
   },
   "file_extension": ".py",
   "mimetype": "text/x-python",
   "name": "python",
   "nbconvert_exporter": "python",
   "pygments_lexer": "ipython3",
   "version": "3.8.2"
  }
 },
 "nbformat": 4,
 "nbformat_minor": 2
}
