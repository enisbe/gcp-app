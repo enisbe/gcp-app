{
 "cells": [
  {
   "cell_type": "code",
   "execution_count": 22,
   "metadata": {},
   "outputs": [],
   "source": [
    "import os\n",
    "import pandas as pd\n",
    "import numpy as np\n",
    "import json"
   ]
  },
  {
   "cell_type": "code",
   "execution_count": 21,
   "metadata": {},
   "outputs": [],
   "source": [
    "import requests, base64\n",
    "url = \"http://127.0.0.1:8080/predict\"\n",
    "\n",
    "payload = {\"test\":1, 'test2':3}\n",
    "headers = {'Content-Type':'application/json'}"
   ]
  },
  {
   "cell_type": "code",
   "execution_count": 3,
   "metadata": {},
   "outputs": [],
   "source": [
    "test = pd.read_csv(\"gcp-app/test.csv\")"
   ]
  },
  {
   "cell_type": "code",
   "execution_count": 4,
   "metadata": {},
   "outputs": [],
   "source": [
    "x_test = test.drop(['Unnamed: 0','mv'],axis=1)\n",
    "y_test = test[['mv']]"
   ]
  },
  {
   "cell_type": "code",
   "execution_count": 63,
   "metadata": {},
   "outputs": [],
   "source": [
    "payload  =x_test[0:10].to_json()"
   ]
  },
  {
   "cell_type": "code",
   "execution_count": 56,
   "metadata": {},
   "outputs": [
    {
     "data": {
      "text/plain": [
       "{'crim': {'0': 0.04932, '1': 0.02543},\n",
       " 'zn': {'0': 33.0, '1': 55.0},\n",
       " 'indus': {'0': 2.18, '1': 3.78},\n",
       " 'chas': {'0': 0, '1': 0},\n",
       " 'nox': {'0': 0.472, '1': 0.484},\n",
       " 'rooms': {'0': 6.849, '1': 6.696},\n",
       " 'age': {'0': 70.3, '1': 56.4},\n",
       " 'dis': {'0': 3.1827, '1': 5.7321},\n",
       " 'rad': {'0': 7, '1': 5},\n",
       " 'tax': {'0': 222, '1': 370},\n",
       " 'ptratio': {'0': 18.4, '1': 17.6},\n",
       " 'lstat': {'0': 7.53, '1': 7.18}}"
      ]
     },
     "execution_count": 56,
     "metadata": {},
     "output_type": "execute_result"
    }
   ],
   "source": [
    " "
   ]
  },
  {
   "cell_type": "code",
   "execution_count": 64,
   "metadata": {},
   "outputs": [],
   "source": [
    "r = requests.post(url,json= json.loads(payload) )"
   ]
  },
  {
   "cell_type": "code",
   "execution_count": 61,
   "metadata": {},
   "outputs": [
    {
     "data": {
      "text/plain": [
       "{'Content-Type': 'application/json', 'Content-Length': '70', 'Server': 'Werkzeug/1.0.1 Python/3.8.7', 'Date': 'Sun, 14 Feb 2021 01:57:48 GMT'}"
      ]
     },
     "execution_count": 61,
     "metadata": {},
     "output_type": "execute_result"
    }
   ],
   "source": [
    "r.headers "
   ]
  },
  {
   "cell_type": "code",
   "execution_count": 67,
   "metadata": {},
   "outputs": [
    {
     "data": {
      "text/plain": [
       "{'predict': [29.54273957922747,\n",
       "  27.21467237557311,\n",
       "  20.175678276555853,\n",
       "  22.333722153597027,\n",
       "  18.366665748215695,\n",
       "  19.172058137802285,\n",
       "  27.057722061110116,\n",
       "  18.983012725325672,\n",
       "  19.541273631817777,\n",
       "  24.607716348540734]}"
      ]
     },
     "execution_count": 67,
     "metadata": {},
     "output_type": "execute_result"
    }
   ],
   "source": [
    "json.loads(r.content)"
   ]
  },
  {
   "cell_type": "code",
   "execution_count": 68,
   "metadata": {},
   "outputs": [
    {
     "data": {
      "text/plain": [
       "{'predict': [29.54273957922747,\n",
       "  27.21467237557311,\n",
       "  20.175678276555853,\n",
       "  22.333722153597027,\n",
       "  18.366665748215695,\n",
       "  19.172058137802285,\n",
       "  27.057722061110116,\n",
       "  18.983012725325672,\n",
       "  19.541273631817777,\n",
       "  24.607716348540734]}"
      ]
     },
     "execution_count": 68,
     "metadata": {},
     "output_type": "execute_result"
    }
   ],
   "source": [
    "r.json()"
   ]
  },
  {
   "cell_type": "code",
   "execution_count": 19,
   "metadata": {},
   "outputs": [
    {
     "name": "stdout",
     "output_type": "stream",
     "text": [
      "\"{\\\"crim\\\":{\\\"0\\\":0.04932,\\\"1\\\":0.02543},\\\"zn\\\":{\\\"0\\\":33.0,\\\"1\\\":55.0},\\\"indus\\\":{\\\"0\\\":2.18,\\\"1\\\":3.78},\\\"chas\\\":{\\\"0\\\":0,\\\"1\\\":0},\\\"nox\\\":{\\\"0\\\":0.472,\\\"1\\\":0.484},\\\"rooms\\\":{\\\"0\\\":6.849,\\\"1\\\":6.696},\\\"age\\\":{\\\"0\\\":70.3,\\\"1\\\":56.4},\\\"dis\\\":{\\\"0\\\":3.1827,\\\"1\\\":5.7321},\\\"rad\\\":{\\\"0\\\":7,\\\"1\\\":5},\\\"tax\\\":{\\\"0\\\":222,\\\"1\\\":370},\\\"ptratio\\\":{\\\"0\\\":18.4,\\\"1\\\":17.6},\\\"lstat\\\":{\\\"0\\\":7.53,\\\"1\\\":7.18}}\"\n"
     ]
    }
   ],
   "source": [
    " json.dumps(payload))"
   ]
  },
  {
   "cell_type": "code",
   "execution_count": 54,
   "metadata": {},
   "outputs": [],
   "source": [
    "rfr = pickle.load(open('gcp-app/predict.pickle', \"rb\" ))"
   ]
  },
  {
   "cell_type": "code",
   "execution_count": 50,
   "metadata": {},
   "outputs": [
    {
     "data": {
      "text/plain": [
       "array([0.29791112, 0.3030034 ])"
      ]
     },
     "execution_count": 50,
     "metadata": {},
     "output_type": "execute_result"
    }
   ],
   "source": [
    "rfr.predict(pd.read_json(payload))"
   ]
  }
 ],
 "metadata": {
  "kernelspec": {
   "display_name": "Python 3",
   "language": "python",
   "name": "python3"
  },
  "language_info": {
   "codemirror_mode": {
    "name": "ipython",
    "version": 3
   },
   "file_extension": ".py",
   "mimetype": "text/x-python",
   "name": "python",
   "nbconvert_exporter": "python",
   "pygments_lexer": "ipython3",
   "version": "3.8.7"
  }
 },
 "nbformat": 4,
 "nbformat_minor": 2
}
