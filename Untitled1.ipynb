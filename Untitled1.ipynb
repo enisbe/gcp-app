{
 "cells": [
  {
   "cell_type": "code",
   "execution_count": 5,
   "id": "veterinary-daniel",
   "metadata": {},
   "outputs": [],
   "source": [
    "from kaggle.api.kaggle_api_extended import KaggleApi\n",
    "from zipfile import ZipFile\n",
    "import os\n",
    "import pandas as pd\n",
    "\n",
    "api = KaggleApi()\n",
    "api.authenticate()"
   ]
  },
  {
   "cell_type": "code",
   "execution_count": 16,
   "id": "soviet-guinea",
   "metadata": {},
   "outputs": [],
   "source": [
    "kaggle_comp = 'GiveMeSomeCredit'"
   ]
  },
  {
   "cell_type": "code",
   "execution_count": 23,
   "id": "sudden-tuesday",
   "metadata": {},
   "outputs": [
    {
     "name": "stdout",
     "output_type": "stream",
     "text": [
      "---Competition Files---\n",
      "[cs-training.csv, sampleEntry.csv, Data Dictionary.xls, cs-test.csv]\n"
     ]
    }
   ],
   "source": [
    "print(\"---Competition Files---\")\n",
    "print(api.competition_list_files(kaggle_comp))\n"
   ]
  },
  {
   "cell_type": "code",
   "execution_count": 17,
   "id": "crude-transcript",
   "metadata": {},
   "outputs": [],
   "source": [
    "api.competition_download_files(kaggle_comp)\n"
   ]
  },
  {
   "cell_type": "code",
   "execution_count": 20,
   "id": "binary-salem",
   "metadata": {},
   "outputs": [],
   "source": [
    "zf = ZipFile('GiveMeSomeCredit.zip')\n",
    "zf.extractall('data/') #save files in selected folder\n",
    "zf.close()\n"
   ]
  },
  {
   "cell_type": "code",
   "execution_count": 21,
   "id": "local-stephen",
   "metadata": {},
   "outputs": [],
   "source": [
    "\n",
    "os.remove('GiveMeSomeCredit.zip')"
   ]
  },
  {
   "cell_type": "code",
   "execution_count": 25,
   "id": "african-concern",
   "metadata": {},
   "outputs": [
    {
     "name": "stdout",
     "output_type": "stream",
     "text": [
      "   Unnamed: 0  SeriousDlqin2yrs  RevolvingUtilizationOfUnsecuredLines  age  NumberOfTime30-59DaysPastDueNotWorse  DebtRatio  MonthlyIncome  NumberOfOpenCreditLinesAndLoans  NumberOfTimes90DaysLate  NumberRealEstateLoansOrLines  NumberOfTime60-89DaysPastDueNotWorse  NumberOfDependents\n",
      "0           1               NaN                              0.885519   43                                     0   0.177513         5700.0                                4                        0                             0                                     0                 0.0\n",
      "1           2               NaN                              0.463295   57                                     0   0.527237         9141.0                               15                        0                             4                                     0                 2.0\n",
      "2           3               NaN                              0.043275   59                                     0   0.687648         5083.0                               12                        0                             1                                     0                 2.0\n",
      "3           4               NaN                              0.280308   38                                     1   0.925961         3200.0                                7                        0                             2                                     0                 0.0\n",
      "4           5               NaN                              1.000000   27                                     0   0.019917         3865.0                                4                        0                             0                                     0                 1.0\n"
     ]
    }
   ],
   "source": [
    "\n",
    "\n",
    "\n",
    "print(pd.read_csv(\"./data/cs-test.csv\").head().to_string())"
   ]
  },
  {
   "cell_type": "code",
   "execution_count": null,
   "id": "flying-moore",
   "metadata": {},
   "outputs": [],
   "source": []
  }
 ],
 "metadata": {
  "kernelspec": {
   "display_name": "Python 3",
   "language": "python",
   "name": "python3"
  },
  "language_info": {
   "codemirror_mode": {
    "name": "ipython",
    "version": 3
   },
   "file_extension": ".py",
   "mimetype": "text/x-python",
   "name": "python",
   "nbconvert_exporter": "python",
   "pygments_lexer": "ipython3",
   "version": "3.8.8"
  }
 },
 "nbformat": 4,
 "nbformat_minor": 5
}
