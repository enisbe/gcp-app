{
 "cells": [
  {
   "cell_type": "code",
   "execution_count": 16,
   "metadata": {},
   "outputs": [],
   "source": [
    "# import base packages into the namespace for this program\n",
    "\n",
    "import pandas as pd  # data frame operations  \n",
    "import numpy as np  # arrays and math functions\n",
    "import matplotlib.pyplot as plt  # static plotting\n",
    "# import seaborn as sns  # pretty plotting, including heat map\n",
    "np.set_printoptions(precision=3)\n",
    "pd.options.display.float_format = '{:.3f}'.format\n",
    "# sns.set()\n",
    "from sklearn import metrics\n",
    "import scipy.stats as st \n",
    "import numpy as np\n",
    "import pandas as pd\n",
    "# modeling routines from Scikit Learn packages\n",
    "import sklearn.linear_model \n",
    "from sklearn.linear_model import LinearRegression, Ridge, Lasso, ElasticNet\n",
    "from sklearn.metrics import mean_squared_error, r2_score  \n",
    "from math import sqrt  # for root mean-squared error calculation\n",
    "import os\n",
    "from sklearn.model_selection import train_test_split\n",
    "import pickle\n",
    "from sklearn.preprocessing import MinMaxScaler\n",
    "from sklearn.ensemble import RandomForestClassifier,  BaggingClassifier, RandomForestRegressor\n",
    "from sklearn.ensemble import RandomForestClassifier,  BaggingClassifier, RandomForestRegressor\n",
    "from sklearn.model_selection import KFold, GridSearchCV, cross_validate, cross_val_score, cross_val_predict\n"
   ]
  },
  {
   "cell_type": "code",
   "execution_count": null,
   "metadata": {},
   "outputs": [],
   "source": [
    "# Find the Best Model"
   ]
  },
  {
   "cell_type": "code",
   "execution_count": null,
   "metadata": {},
   "outputs": [],
   "source": [
    "training = pd.read_csv('data/cs-training.csv')\n",
    "training = training.dropna()  \n",
    "train_df, valid_df = train_test_split(training, test_size = 0.3, random_state = 0)\n",
    "X = train_df.drop(['Unnamed: 0','SeriousDlqin2yrs'], axis = 1)\n",
    "y = train_df['SeriousDlqin2yrs']\n",
    "clfs = RandomForestClassifier\n",
    "mdl_param =  {'n_estimators': [10, 20],  'max_features': ['auto','sqrt'], 'n_jobs':[-1],\n",
    "                      'max_depth':[2, 4, 6, 8], 'min_samples_leaf':[5,10,20], 'min_samples_split':[2,5,10] }\n"
   ]
  },
  {
   "cell_type": "code",
   "execution_count": 37,
   "metadata": {
    "scrolled": false
   },
   "outputs": [
    {
     "data": {
      "text/plain": [
       "GridSearchCV(cv=10, error_score=nan,\n",
       "             estimator=RandomForestClassifier(bootstrap=True, ccp_alpha=0.0,\n",
       "                                              class_weight=None,\n",
       "                                              criterion='gini', max_depth=None,\n",
       "                                              max_features='auto',\n",
       "                                              max_leaf_nodes=None,\n",
       "                                              max_samples=None,\n",
       "                                              min_impurity_decrease=0.0,\n",
       "                                              min_impurity_split=None,\n",
       "                                              min_samples_leaf=1,\n",
       "                                              min_samples_split=2,\n",
       "                                              min_weight_fraction_leaf=0.0,\n",
       "                                              n_estimators=100, n_jobs=None,\n",
       "                                              oob_score=False,\n",
       "                                              random_state=None, verbose=0,\n",
       "                                              warm_start=False),\n",
       "             iid='deprecated', n_jobs=None,\n",
       "             param_grid={'max_depth': [2, 4, 6, 8],\n",
       "                         'max_features': ['auto', 'sqrt'],\n",
       "                         'min_samples_leaf': [5, 10, 20],\n",
       "                         'min_samples_split': [2, 5, 10],\n",
       "                         'n_estimators': [10, 20], 'n_jobs': [-1]},\n",
       "             pre_dispatch='2*n_jobs', refit=True, return_train_score=True,\n",
       "             scoring='roc_auc', verbose=0)"
      ]
     },
     "execution_count": 37,
     "metadata": {},
     "output_type": "execute_result"
    }
   ],
   "source": [
    "clf = GridSearchCV(RandomForestClassifier(), mdl_param,  scoring=\"roc_auc\", return_train_score=True, cv=10)\n",
    "clf.fit(X,y)"
   ]
  },
  {
   "cell_type": "code",
   "execution_count": 38,
   "metadata": {},
   "outputs": [
    {
     "data": {
      "text/plain": [
       "RandomForestClassifier(bootstrap=True, ccp_alpha=0.0, class_weight=None,\n",
       "                       criterion='gini', max_depth=8, max_features='auto',\n",
       "                       max_leaf_nodes=None, max_samples=None,\n",
       "                       min_impurity_decrease=0.0, min_impurity_split=None,\n",
       "                       min_samples_leaf=20, min_samples_split=5,\n",
       "                       min_weight_fraction_leaf=0.0, n_estimators=20, n_jobs=-1,\n",
       "                       oob_score=False, random_state=None, verbose=0,\n",
       "                       warm_start=False)"
      ]
     },
     "execution_count": 38,
     "metadata": {},
     "output_type": "execute_result"
    }
   ],
   "source": [
    "clf.best_estimator_"
   ]
  },
  {
   "cell_type": "code",
   "execution_count": 39,
   "metadata": {},
   "outputs": [],
   "source": [
    "rfc = clf.best_estimator_"
   ]
  },
  {
   "cell_type": "markdown",
   "metadata": {},
   "source": [
    "# Training the model"
   ]
  },
  {
   "cell_type": "code",
   "execution_count": 63,
   "metadata": {},
   "outputs": [],
   "source": [
    "training = pd.read_csv('data/cs-training.csv')\n",
    "training.fillna(training.median(),inplace=True)\n",
    "train_df, valid_df = train_test_split(training, test_size = 0.3, random_state = 0)\n",
    "\n",
    "X_train = train_df.drop(['Unnamed: 0','SeriousDlqin2yrs'], axis = 1)\n",
    "y_train = train_df['SeriousDlqin2yrs']\n",
    "X_test = valid_df.drop(['Unnamed: 0','SeriousDlqin2yrs'], axis = 1)\n",
    "y_test = valid_df['SeriousDlqin2yrs']"
   ]
  },
  {
   "cell_type": "code",
   "execution_count": 61,
   "metadata": {},
   "outputs": [
    {
     "data": {
      "text/plain": [
       "RandomForestClassifier(bootstrap=True, ccp_alpha=0.0, class_weight=None,\n",
       "                       criterion='gini', max_depth=8, max_features='auto',\n",
       "                       max_leaf_nodes=None, max_samples=None,\n",
       "                       min_impurity_decrease=0.0, min_impurity_split=None,\n",
       "                       min_samples_leaf=20, min_samples_split=5,\n",
       "                       min_weight_fraction_leaf=0.0, n_estimators=20, n_jobs=-1,\n",
       "                       oob_score=False, random_state=None, verbose=0,\n",
       "                       warm_start=False)"
      ]
     },
     "execution_count": 61,
     "metadata": {},
     "output_type": "execute_result"
    }
   ],
   "source": [
    "rfc.fit(X_train, y_train)"
   ]
  },
  {
   "cell_type": "code",
   "execution_count": 62,
   "metadata": {},
   "outputs": [
    {
     "data": {
      "text/plain": [
       "array([[0.986, 0.014],\n",
       "       [0.993, 0.007],\n",
       "       [0.938, 0.062],\n",
       "       ...,\n",
       "       [0.804, 0.196],\n",
       "       [0.989, 0.011],\n",
       "       [0.774, 0.226]])"
      ]
     },
     "execution_count": 62,
     "metadata": {},
     "output_type": "execute_result"
    }
   ],
   "source": [
    "rfc.predict_proba(X_train)"
   ]
  },
  {
   "cell_type": "markdown",
   "metadata": {},
   "source": [
    "# Performance Assesment"
   ]
  },
  {
   "cell_type": "code",
   "execution_count": 77,
   "metadata": {},
   "outputs": [],
   "source": [
    "from sklearn.utils import resample\n",
    "from sklearn.metrics import  accuracy_score\n",
    "from sklearn.metrics import  precision_score\n",
    "from sklearn.metrics import  recall_score\n",
    "from sklearn.metrics import confusion_matrix\n",
    "from sklearn.metrics import roc_auc_score as auc\n",
    "def resampling():\n",
    "    global X_train, y_train , X_test , y_test\n",
    "    train, test =   train_test_split(training, test_size = 0.30, random_state = 0)\n",
    "    # train\n",
    "    minority= train[train['SeriousDlqin2yrs']==1]\n",
    "    majority= train[train['SeriousDlqin2yrs']==0]\n",
    "\n",
    "    train_new=resample(minority, replace=True,n_samples=len(majority),random_state=123)\n",
    "    train_new=pd.concat([majority,train_new])\n",
    "\n",
    "    X_train =  train_new.drop(['Unnamed: 0','SeriousDlqin2yrs'], axis=1)\n",
    "    y_train =  train_new['SeriousDlqin2yrs']\n",
    "    \n",
    "    \n",
    "    minority= test[test['SeriousDlqin2yrs']==1]\n",
    "    majority= test[test['SeriousDlqin2yrs']==0]\n",
    "\n",
    "    test_new=resample(minority, replace=True,n_samples=len(majority),random_state=123)\n",
    "    test_new=pd.concat([majority,test_new])\n",
    "    \n",
    "    \n",
    "    X_test = test_new.drop(['Unnamed: 0','SeriousDlqin2yrs'], axis=1)\n",
    "    y_test= test_new['SeriousDlqin2yrs'] \n",
    "resampling()   "
   ]
  },
  {
   "cell_type": "code",
   "execution_count": 78,
   "metadata": {},
   "outputs": [],
   "source": [
    "def prediction_metrics(classifier,regType ):\n",
    "    resampling()\n",
    "    \n",
    "    classifier.fit(X_train, y_train)\n",
    "    \n",
    "    auc_score_train=auc(y_train, classifier.predict_proba(X_train)[:,1] )\n",
    "    acu_score_test=auc(y_test, classifier.predict_proba(X_test)[:,1] )\n",
    "    precision_train= precision_score(y_train, classifier.predict(X_train) )\n",
    "    precision_test= precision_score(y_test, classifier.predict(X_test) )\n",
    "    recall_train=   recall_score(y_train, classifier.predict(X_train) )\n",
    "    recall_test=  recall_score(y_test, classifier.predict(X_test) )\n",
    "    accuracy_train=   accuracy_score(y_train, classifier.predict(X_train) )\n",
    "    accuracy_test=   accuracy_score(y_test, classifier.predict(X_test) )\n",
    "    print(\"\\n--------\"+ regType + \"------------\")\n",
    "    \n",
    "    print('\\nConfusion Matrix Training')\n",
    "    print(confusion_matrix(y_train, classifier.predict(X_train)  ))\n",
    "    print('\\nConfusion Matrix testing')\n",
    "    print( confusion_matrix(y_test, classifier.predict(X_test) ))\n",
    "    print('\\nTraining AUC')\n",
    "    print(auc_score_train)\n",
    "    print('\\nTest  AUC')\n",
    "    print(acu_score_test)\n",
    "\n",
    "    \n",
    "    print('\\nPrecision Train')\n",
    "    print(precision_train)\n",
    "    print('\\nPrecision Test')\n",
    "    print(precision_test)\n",
    "    print('\\nRecall train')\n",
    "    print( recall_train)\n",
    "    print('\\nRecall test')\n",
    "    print( recall_test)\n",
    "  \n",
    "    print('\\nAccurancy train')\n",
    "    print( accuracy_train)\n",
    "    \n",
    "    print('\\nAccurancy test')\n",
    "    print( accuracy_test)\n",
    "    \n",
    "    \n",
    "    return [(auc_score_train,precision_train, recall_train, accuracy_train),\n",
    "            (acu_score_test,precision_test, recall_test, accuracy_test) ]"
   ]
  },
  {
   "cell_type": "code",
   "execution_count": 79,
   "metadata": {},
   "outputs": [
    {
     "name": "stdout",
     "output_type": "stream",
     "text": [
      "\n",
      "--------random Forest------------\n",
      "\n",
      "Confusion Matrix Training\n",
      "[[79609 18400]\n",
      " [20957 77052]]\n",
      "\n",
      "Confusion Matrix testing\n",
      "[[33957  8008]\n",
      " [10697 31268]]\n",
      "\n",
      "Training AUC\n",
      "0.8771429256383377\n",
      "\n",
      "Test  AUC\n",
      "0.8563396868839697\n",
      "\n",
      "Precision Train\n",
      "0.8072329547835562\n",
      "\n",
      "Precision Test\n",
      "0.7961095834606375\n",
      "\n",
      "Recall train\n",
      "0.7861726984256547\n",
      "\n",
      "Recall test\n",
      "0.7450971047301322\n",
      "\n",
      "Accurancy train\n",
      "0.7992174188084767\n",
      "\n",
      "Accurancy test\n",
      "0.7771357083283689\n"
     ]
    }
   ],
   "source": [
    "train_metricLR, test_metricLR = prediction_metrics(rfc, regType=\"Random Forest\" )"
   ]
  },
  {
   "cell_type": "code",
   "execution_count": 81,
   "metadata": {
    "scrolled": true
   },
   "outputs": [
    {
     "data": {
      "text/html": [
       "<div>\n",
       "<style scoped>\n",
       "    .dataframe tbody tr th:only-of-type {\n",
       "        vertical-align: middle;\n",
       "    }\n",
       "\n",
       "    .dataframe tbody tr th {\n",
       "        vertical-align: top;\n",
       "    }\n",
       "\n",
       "    .dataframe thead th {\n",
       "        text-align: right;\n",
       "    }\n",
       "</style>\n",
       "<table border=\"1\" class=\"dataframe\">\n",
       "  <thead>\n",
       "    <tr style=\"text-align: right;\">\n",
       "      <th></th>\n",
       "      <th>AUC</th>\n",
       "      <th>Precision</th>\n",
       "      <th>Recall</th>\n",
       "      <th>Accuracy</th>\n",
       "    </tr>\n",
       "  </thead>\n",
       "  <tbody>\n",
       "    <tr>\n",
       "      <th>Train</th>\n",
       "      <td>0.877</td>\n",
       "      <td>0.807</td>\n",
       "      <td>0.786</td>\n",
       "      <td>0.799</td>\n",
       "    </tr>\n",
       "    <tr>\n",
       "      <th>Test</th>\n",
       "      <td>0.856</td>\n",
       "      <td>0.796</td>\n",
       "      <td>0.745</td>\n",
       "      <td>0.777</td>\n",
       "    </tr>\n",
       "  </tbody>\n",
       "</table>\n",
       "</div>"
      ],
      "text/plain": [
       "        AUC  Precision  Recall  Accuracy\n",
       "Train 0.877      0.807   0.786     0.799\n",
       "Test  0.856      0.796   0.745     0.777"
      ]
     },
     "execution_count": 81,
     "metadata": {},
     "output_type": "execute_result"
    }
   ],
   "source": [
    "train_metric = pd.DataFrame([pd.Series(train_metricLR),  pd.Series(test_metricLR) ], index=[\"Train\",'Test'])\n",
    "train_metric.columns = ['AUC','Precision','Recall','Accuracy']\n",
    "train_metric"
   ]
  },
  {
   "cell_type": "code",
   "execution_count": 94,
   "metadata": {},
   "outputs": [],
   "source": [
    "import seaborn as sns  # pretty plotting, including heat map\n",
    "sns.set()"
   ]
  },
  {
   "cell_type": "code",
   "execution_count": 100,
   "metadata": {},
   "outputs": [],
   "source": [
    "def train_test():\n",
    "    global X_train, y_train , X_test , y_test\n",
    "    train_df, valid_df = train_test_split(training, test_size = 0.3, random_state = 0)\n",
    "\n",
    "    X_train = train_df.drop(['Unnamed: 0','SeriousDlqin2yrs'], axis = 1)\n",
    "    y_train = train_df['SeriousDlqin2yrs']\n",
    "    X_test = valid_df.drop(['Unnamed: 0','SeriousDlqin2yrs'], axis = 1)\n",
    "    y_test = valid_df['SeriousDlqin2yrs']\n",
    "\n"
   ]
  },
  {
   "cell_type": "code",
   "execution_count": 101,
   "metadata": {},
   "outputs": [
    {
     "data": {
      "image/png": "[encoded data removed]",
      "text/plain": [
       "<Figure size 864x288 with 2 Axes>"
      ]
     },
     "metadata": {},
     "output_type": "display_data"
    }
   ],
   "source": [
    "from sklearn.metrics import plot_roc_curve\n",
    "def plot_classfier(classifer, title):\n",
    "#     resampling()\n",
    "    train_test()\n",
    "    fig, ax = plt.subplots(1,2,  figsize=(12,4))\n",
    "\n",
    "    classifer.fit(X_train, y_train)\n",
    "    viz = plot_roc_curve(rfc, X_train, y_train,\n",
    "                                 name='ROC ' ,\n",
    "                                 alpha=0.3, lw=1, ax=ax[0])\n",
    "    ax[0].plot([0, 1], [0, 1], linestyle='--', lw=2, color='r',   label='Chance', alpha=.8)\n",
    "    ax[0].set_title(title + \"-Train\")\n",
    "    viz = plot_roc_curve(rfc, X_test, y_test,\n",
    "                                 name='ROC'.format(1),\n",
    "                                 alpha=0.3, lw=1, ax=ax[1])\n",
    "    ax[1].plot([0, 1], [0, 1], linestyle='--', lw=2, color='r',   label='Chance', alpha=.8)\n",
    "    ax[1].set_title(title + \"-Test\");\n",
    "    \n",
    "plot_classfier(rfc,'Random Forest Classifier')"
   ]
  },
  {
   "cell_type": "code",
   "execution_count": 102,
   "metadata": {},
   "outputs": [
    {
     "data": {
      "text/plain": [
       "0.06640831350228896"
      ]
     },
     "execution_count": 102,
     "metadata": {},
     "output_type": "execute_result"
    }
   ],
   "source": [
    "rfc.predict_proba(X_test)[:,1].mean()"
   ]
  },
  {
   "cell_type": "code",
   "execution_count": 110,
   "metadata": {},
   "outputs": [],
   "source": [
    "submit = pd.read_csv(\"data/cs-test.csv\")\n",
    "\n",
    "X_submit = submit.drop(['Unnamed: 0','SeriousDlqin2yrs'], axis = 1)\n",
    "X_submit  = X_submit.fillna(training.median())\n",
    "submit_proba = rfc.predict_proba(X_submit)[:,1] "
   ]
  },
  {
   "cell_type": "code",
   "execution_count": null,
   "metadata": {},
   "outputs": [],
   "source": [
    "# Create Kaggle submission file"
   ]
  },
  {
   "cell_type": "code",
   "execution_count": 113,
   "metadata": {},
   "outputs": [
    {
     "name": "stdout",
     "output_type": "stream",
     "text": [
      "        Probability\n",
      "1             0.080\n",
      "2             0.041\n",
      "3             0.015\n",
      "4             0.073\n",
      "5             0.107\n",
      "...             ...\n",
      "101499        0.023\n",
      "101500        0.342\n",
      "101501        0.008\n",
      "101502        0.146\n",
      "101503        0.039\n",
      "\n",
      "[101503 rows x 1 columns]\n"
     ]
    }
   ],
   "source": [
    "df_submission =pd.DataFrame(submit_proba,columns=['Probability']  )\n",
    "df_submission.index.name = 'Id'\n",
    "df_submission.index = range(1,len(df_submission)+1)\n",
    "print(df_submission)\n",
    "df_submission.to_csv(\"data/submission.csv\", index_label=\"Id\") "
   ]
  },
  {
   "cell_type": "markdown",
   "metadata": {},
   "source": [
    "# Persist Models"
   ]
  },
  {
   "cell_type": "code",
   "execution_count": 114,
   "metadata": {},
   "outputs": [],
   "source": [
    "import pickle\n",
    "pickle.dump(rfc,  open('model/predict.pickle', \"wb\" ))\n",
    "pickle.dump(training.drop(['Unnamed: 0','SeriousDlqin2yrs'], axis = 1).median(),open('model/median.pickle','wb'))"
   ]
  },
  {
   "cell_type": "code",
   "execution_count": null,
   "metadata": {},
   "outputs": [],
   "source": []
  }
 ],
 "metadata": {
  "kernelspec": {
   "display_name": "Python 3",
   "language": "python",
   "name": "python3"
  },
  "language_info": {
   "codemirror_mode": {
    "name": "ipython",
    "version": 3
   },
   "file_extension": ".py",
   "mimetype": "text/x-python",
   "name": "python",
   "nbconvert_exporter": "python",
   "pygments_lexer": "ipython3",
   "version": "3.8.8"
  }
 },
 "nbformat": 4,
 "nbformat_minor": 2
}
